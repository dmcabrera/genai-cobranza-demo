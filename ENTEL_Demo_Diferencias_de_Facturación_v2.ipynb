{
  "nbformat": 4,
  "nbformat_minor": 0,
  "metadata": {
    "colab": {
      "provenance": [],
      "include_colab_link": true
    },
    "kernelspec": {
      "name": "python3",
      "display_name": "Python 3"
    },
    "language_info": {
      "name": "python"
    }
  },
  "cells": [
    {
      "cell_type": "markdown",
      "metadata": {
        "id": "view-in-github",
        "colab_type": "text"
      },
      "source": [
        "<a href=\"https://colab.research.google.com/github/dmcabrera/genai-cobranza-demo/blob/main/ENTEL_Demo_Diferencias_de_Facturaci%C3%B3n_v2.ipynb\" target=\"_parent\"><img src=\"https://colab.research.google.com/assets/colab-badge.svg\" alt=\"Open In Colab\"/></a>"
      ]
    },
    {
      "cell_type": "code",
      "source": [
        "# Copyright 2024 Deloitte\n",
        "#\n",
        "# Licensed under the Apache License, Version 2.0 (the \"License\");\n",
        "# you may not use this file except in compliance with the License.\n",
        "# You may obtain a copy of the License at\n",
        "#\n",
        "#     https://www.apache.org/licenses/LICENSE-2.0\n",
        "#\n",
        "# Unless required by applicable law or agreed to in writing, software\n",
        "# distributed under the License is distributed on an \"AS IS\" BASIS,\n",
        "# WITHOUT WARRANTIES OR CONDITIONS OF ANY KIND, either express or implied.\n",
        "# See the License for the specific language governing permissions and\n",
        "# limitations under the License."
      ],
      "metadata": {
        "id": "D6DkhOQV-Y-u"
      },
      "execution_count": null,
      "outputs": []
    },
    {
      "cell_type": "code",
      "execution_count": 9,
      "metadata": {
        "id": "ijIai-Ax-Dsu"
      },
      "outputs": [],
      "source": [
        "# Instalar paquetes\n",
        "!pip install -q --upgrade google-cloud-aiplatform\n",
        "!pip install -q markdown"
      ]
    },
    {
      "cell_type": "code",
      "source": [
        "# Reiniciar runtime\n",
        "import IPython\n",
        "app = IPython.Application.instance().kernel.do_shutdown(True)"
      ],
      "metadata": {
        "id": "2KjDluk2-flr"
      },
      "execution_count": 2,
      "outputs": []
    },
    {
      "cell_type": "code",
      "source": [
        "# Autenticar colab\n",
        "from google.colab import auth\n",
        "auth.authenticate_user()"
      ],
      "metadata": {
        "id": "zSDDW7fJ-qzC"
      },
      "execution_count": 1,
      "outputs": []
    },
    {
      "cell_type": "code",
      "source": [
        "# Constantes\n",
        "PROJECT_ID = \"dtt-genai-demos\" # TODO: Replace with your project ID\n",
        "LOCATION = \"us-central1\" # TODO: Replace with your deployment location"
      ],
      "metadata": {
        "id": "vAGMluPIbAS8"
      },
      "execution_count": 2,
      "outputs": []
    },
    {
      "cell_type": "code",
      "source": [
        "# Importo módulos\n",
        "import vertexai\n",
        "from vertexai.generative_models import GenerativeModel\n",
        "import vertexai.generative_models as generative_models"
      ],
      "metadata": {
        "id": "PZk6PnpbbYl4"
      },
      "execution_count": 3,
      "outputs": []
    },
    {
      "cell_type": "code",
      "source": [
        "# Configuración de generación del modelo\n",
        "GENERATION_CONFIG = {\n",
        "    \"max_output_tokens\": 8192,\n",
        "    \"temperature\": 0.3,\n",
        "    \"top_p\": 0.95,\n",
        "}\n",
        "\n",
        "# Safe settings del modelo\n",
        "SAFETY_SETTINGS = {\n",
        "    generative_models.HarmCategory.HARM_CATEGORY_HATE_SPEECH: generative_models.HarmBlockThreshold.BLOCK_ONLY_HIGH,\n",
        "    generative_models.HarmCategory.HARM_CATEGORY_DANGEROUS_CONTENT: generative_models.HarmBlockThreshold.BLOCK_ONLY_HIGH,\n",
        "    generative_models.HarmCategory.HARM_CATEGORY_SEXUALLY_EXPLICIT: generative_models.HarmBlockThreshold.BLOCK_ONLY_HIGH,\n",
        "    generative_models.HarmCategory.HARM_CATEGORY_HARASSMENT: generative_models.HarmBlockThreshold.BLOCK_ONLY_HIGH,\n",
        "}\n",
        "\n",
        "vertexai.init(project=PROJECT_ID, location=LOCATION)"
      ],
      "metadata": {
        "id": "I8K0b8uwbHaZ"
      },
      "execution_count": 4,
      "outputs": []
    },
    {
      "cell_type": "code",
      "source": [
        "llm = GenerativeModel(\n",
        "    \"gemini-1.5-flash\",\n",
        "    system_instruction=\"\"\"\n",
        "Eres Entel Cobranza, un asistente especializado en responder preguntas asociadas \\\n",
        "a la facturación de los clientes segun el siguiente contexto:\n",
        "\n",
        "Contexto:\n",
        "{\n",
        "  \"apellidos\": \"Gonzalez Perez\",\n",
        "  \"nombres\" : \"Juan Manuel\",\n",
        "  \"rut\" : \"12345678-9\",\n",
        "  \"factura_anterior\" : {\n",
        "    \"fecha\" : \"202407\",\n",
        "    \"numero\" : \"4433556677\",\n",
        "    \"monto\" : 65000,\n",
        "    \"detalle\" : [\n",
        "      {\n",
        "        \"tipo_servicio\" : \"movil\",\n",
        "        \"detalle\" : \"5622334455\",\n",
        "        \"monto\" : 35000\n",
        "      },\n",
        "      {\n",
        "        \"tipo_servicio\" : \"television\",\n",
        "        \"detalle\" : \"plan_gold\",\n",
        "        \"monto\" : 30000\n",
        "      }\n",
        "    ]\n",
        "  },\n",
        "  \"factura_actual\" : {\n",
        "    \"fecha\" : \"202408\",\n",
        "    \"numero\" : \"4433588232\",\n",
        "    \"monto\" : 71000,\n",
        "    \"detalle\" : [\n",
        "      {\n",
        "        \"tipo_servicio\" : \"movil\",\n",
        "        \"detalle\" : \"5622334455\",\n",
        "        \"monto\" : 35000\n",
        "      },\n",
        "      {\n",
        "        \"tipo_servicio\" : \"television\",\n",
        "        \"detalle\" : \"plan_gold\",\n",
        "        \"monto\" : 30000\n",
        "      },\n",
        "      {\n",
        "        \"servicio\" : \"tv_ondemand\",\n",
        "        \"detalle\" : \"spider man 3\",\n",
        "        \"monto\" : 5000\n",
        "      }\n",
        "    ]\n",
        "  }\n",
        "}\n",
        "            \"\"\",\n",
        "            generation_config=GENERATION_CONFIG,\n",
        "            safety_settings=SAFETY_SETTINGS\n",
        "        )"
      ],
      "metadata": {
        "id": "t141_rdpbpiT"
      },
      "execution_count": 5,
      "outputs": []
    },
    {
      "cell_type": "code",
      "source": [
        "from IPython.display import display, Markdown\n",
        "\n",
        "\n",
        "# Genero texto\n",
        "def generate(pregunta):\n",
        "  responses = llm.generate_content(\n",
        "    pregunta,\n",
        "    generation_config={\n",
        "        \"max_output_tokens\": 2048,\n",
        "        \"temperature\": 0.2,\n",
        "        \"top_p\": 1\n",
        "    },\n",
        "    stream=False,\n",
        "  )\n",
        "\n",
        "  display(Markdown(responses.candidates[0].text))"
      ],
      "metadata": {
        "id": "3iHvwhh6_1My"
      },
      "execution_count": 20,
      "outputs": []
    },
    {
      "cell_type": "code",
      "source": [
        "generate(\"por qué ne están cobrando más este mes?\")"
      ],
      "metadata": {
        "colab": {
          "base_uri": "https://localhost:8080/",
          "height": 141
        },
        "id": "nm11EWQzfdZO",
        "outputId": "408b2fc2-0d01-4d61-bb6b-152ff715b166"
      },
      "execution_count": 21,
      "outputs": [
        {
          "output_type": "display_data",
          "data": {
            "text/plain": [
              "<IPython.core.display.Markdown object>"
            ],
            "text/markdown": "Estimado Juan Manuel Gonzalez Perez, le informamos que el monto de su factura del mes de agosto (número 4433588232) es de $71.000, lo que representa un aumento de $6.000 con respecto a la factura anterior. \n\nEste aumento se debe a la incorporación de un nuevo servicio en su factura: **tv_ondemand** por el detalle \"spider man 3\" con un valor de $5.000.\n\nEl resto de los servicios, como su plan móvil 5622334455 y el plan de televisión \"plan_gold\", mantienen el mismo valor que el mes anterior.\n\nSi tiene alguna duda o necesita mayor información, no dude en contactarnos.\n"
          },
          "metadata": {}
        }
      ]
    },
    {
      "cell_type": "code",
      "source": [
        "generate(\"cuánto me están cobrando por el servicio de televisión?\")"
      ],
      "metadata": {
        "colab": {
          "base_uri": "https://localhost:8080/",
          "height": 70
        },
        "id": "mQC0r9e2gGho",
        "outputId": "d5a34dd9-3e64-44b2-924b-6989f44e707f"
      },
      "execution_count": 22,
      "outputs": [
        {
          "output_type": "display_data",
          "data": {
            "text/plain": [
              "<IPython.core.display.Markdown object>"
            ],
            "text/markdown": "En su factura actual, correspondiente al mes de 202408, el servicio de televisión le está costando $30.000. \n\n¿Le puedo ayudar con algo más? \n"
          },
          "metadata": {}
        }
      ]
    }
  ]
}